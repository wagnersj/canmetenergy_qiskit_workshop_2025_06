{
 "cells": [
  {
   "cell_type": "code",
   "execution_count": null,
   "id": "55be33cc-897b-4440-af88-aac57801563a",
   "metadata": {},
   "outputs": [],
   "source": [
    "#Sample circuits\n",
    "#visualization\n",
    "#depth of a circuit\n",
    "#Providers, simulators and backends\n",
    "#Choosing a backend\n",
    "#transpilation\n",
    "#qiskit_ibm_runtime,samplerV2, estimatorV2 primitives"
   ]
  },
  {
   "cell_type": "code",
   "execution_count": 7,
   "id": "95480310",
   "metadata": {},
   "outputs": [],
   "source": [
    "import warnings\n",
    "warnings.filterwarnings('ignore', category=DeprecationWarning)\n",
    "import pprint"
   ]
  },
  {
   "cell_type": "code",
   "execution_count": 8,
   "id": "6f0e72dc-dd16-4c0d-8bbb-45ffb63bdcb8",
   "metadata": {
    "tags": []
   },
   "outputs": [],
   "source": [
    "# Importing standard Qiskit libraries\n",
    "from qiskit import QuantumCircuit, transpile \n",
    "\n",
    "from qiskit.visualization import (\n",
    "    plot_bloch_multivector, \n",
    "    plot_bloch_vector,\n",
    "    plot_state_city,\n",
    "    plot_histogram,\n",
    "    plot_state_qsphere\n",
    ")\n",
    "from qiskit_aer import AerSimulator\n",
    "\n",
    "# qiskit-ibmq-provider has been deprecated.\n",
    "# Please see the Migration Guides in https://ibm.biz/provider_migration_guide for more detail.\n",
    "from qiskit_ibm_runtime import QiskitRuntimeService \n",
    "from qiskit_ibm_runtime import EstimatorV2 as Estimator, SamplerV2 as Sampler\n",
    "\n",
    "\n",
    "from qiskit.quantum_info import Statevector\n",
    "\n",
    "# # Loading your IBM Quantum account(s)\n",
    "# service = QiskitRuntimeService()\n",
    "# simulator = AerSimulator()\n"
   ]
  },
  {
   "cell_type": "code",
   "execution_count": null,
   "id": "7b966260",
   "metadata": {},
   "outputs": [],
   "source": [
    "# IBM Quantum channel; set to default #https://docs.quantum.ibm.com/guides/setup-channel\n",
    "\n",
    "\n",
    "with open('/Users/hema/feb_2022/QExperiments/QuantumComputing/my_ibmq_token.txt') as token_file:\n",
    "    MY_IBM_QUANTUM_TOKEN = token_file.read()\n",
    "\n",
    "# Save an IBM Quantum account and set it as your default account. # when working on a trusted local environment\n",
    "QiskitRuntimeService.save_account(\n",
    "    channel=\"ibm_quantum\",\n",
    "    token=MY_IBM_QUANTUM_TOKEN,\n",
    "    set_as_default=True,\n",
    "    # Use `overwrite=True` if you're updating your token.\n",
    "    overwrite=False,\n",
    ")\n",
    "\n",
    "#or when working on a public environment\n",
    "# service = QiskitRuntimeService(channel=\"ibm_quantum\", token=MY_IBM_QUANTUM_TOKEN)\n",
    " \n",
    "# # Load saved credentials\n",
    "service = QiskitRuntimeService()"
   ]
  },
  {
   "cell_type": "markdown",
   "id": "1bcba9b5-d479-444e-a057-d42b017bd616",
   "metadata": {},
   "source": [
    "#### Construct the hello world circuit\n"
   ]
  },
  {
   "cell_type": "code",
   "execution_count": 15,
   "id": "4d47c4f9",
   "metadata": {},
   "outputs": [],
   "source": [
    "''' 1. Construct a quantum circuit with 1 qubit\n",
    "    2. Draw the circuit\n",
    "    3. Visualize with \n",
    "        i. blochsphere\n",
    "        ii. state city plot\n",
    "'''\n",
    "qc = QuantumCircuit(1)\n",
    "\n",
    "\n"
   ]
  },
  {
   "cell_type": "code",
   "execution_count": null,
   "id": "40c34e40",
   "metadata": {},
   "outputs": [],
   "source": [
    "#visualize the circuit with plot_bloch_multivector"
   ]
  },
  {
   "cell_type": "markdown",
   "id": "3b2b4240-b35a-4e35-82cc-1726ddde80f2",
   "metadata": {},
   "source": [
    "#### 1-Qubit Gate - NOT gate (Bit Flip)"
   ]
  },
  {
   "cell_type": "code",
   "execution_count": 13,
   "id": "d7528f1c-ad5a-44c9-927a-8bd4ba0c1f5a",
   "metadata": {},
   "outputs": [],
   "source": [
    "#Construct a simple circuit with not gate\n"
   ]
  },
  {
   "cell_type": "code",
   "execution_count": 16,
   "id": "9cffc66a",
   "metadata": {},
   "outputs": [],
   "source": [
    "#visualize the circuit with plot_bloch_multivector\n"
   ]
  },
  {
   "cell_type": "code",
   "execution_count": 21,
   "id": "f07d381c-8143-420a-9a9b-ce1f65820612",
   "metadata": {},
   "outputs": [],
   "source": [
    "#apply measurement gate and run the circuit with the Aer simulator\n",
    "\n"
   ]
  },
  {
   "cell_type": "markdown",
   "id": "7e7cde11",
   "metadata": {},
   "source": [
    "#### Run the Circuit on a simulator"
   ]
  },
  {
   "cell_type": "code",
   "execution_count": null,
   "id": "c01a3e0c",
   "metadata": {},
   "outputs": [],
   "source": [
    "#run the circuit with the Aer simulator to get the probablity distribution of results\n",
    "#by default, shots=1024\n",
    "\n",
    "#create AerSimulator instance\n",
    "simulator = AerSimulator()\n",
    "\n",
    "#run the circuit on the simulator and get the result\n",
    "\n",
    "\n"
   ]
  },
  {
   "cell_type": "code",
   "execution_count": null,
   "id": "ef5876fb",
   "metadata": {},
   "outputs": [],
   "source": [
    "#print result\n",
    "# print(f'Backend Name: {result.backend_name}')\n",
    "# print(f'Backend version:{result.backend_version}')\n",
    "# print(f'Job ID: {result.job_id}')\n",
    "# print(f'Counts: {result.get_counts()}')"
   ]
  },
  {
   "cell_type": "code",
   "execution_count": null,
   "id": "6c8f6f71",
   "metadata": {},
   "outputs": [],
   "source": [
    "#get result counts and plot histogram to visualize distribution \n"
   ]
  },
  {
   "cell_type": "markdown",
   "id": "e291223d",
   "metadata": {},
   "source": [
    "##### Get the results of each shot"
   ]
  },
  {
   "cell_type": "code",
   "execution_count": 22,
   "id": "72df6f62",
   "metadata": {},
   "outputs": [],
   "source": [
    "#Enable memory parameter to get results of every shot \n",
    "# res = simulator.run(qc, shots=10, memory=True).result()\n",
    "# res.get_memory(qc)"
   ]
  },
  {
   "cell_type": "markdown",
   "id": "8a102491-71c6-47b0-872e-078425388921",
   "metadata": {},
   "source": [
    "#### 2-Qubit Gate - CNOT gate"
   ]
  },
  {
   "cell_type": "code",
   "execution_count": 118,
   "id": "08f97981-8a6a-4e10-b17e-8798f534e73e",
   "metadata": {
    "tags": []
   },
   "outputs": [],
   "source": [
    "#Construct the circuit\n",
    "qc = QuantumCircuit(2)\n",
    "\n",
    "#apply not gate\n",
    "\n",
    "#apply cnot gate\n",
    "\n",
    "#draw circuit"
   ]
  },
  {
   "cell_type": "code",
   "execution_count": 119,
   "id": "464ecfe1",
   "metadata": {},
   "outputs": [],
   "source": [
    "#blochsphere visualiaztion\n"
   ]
  },
  {
   "cell_type": "code",
   "execution_count": 31,
   "id": "910cfc20",
   "metadata": {},
   "outputs": [],
   "source": [
    "#apply measurementnt gate\n",
    "qc.measure_all()"
   ]
  },
  {
   "cell_type": "code",
   "execution_count": 120,
   "id": "99873ab6-6fb2-4a0b-99d2-3ff7c795506b",
   "metadata": {},
   "outputs": [],
   "source": [
    "#Run the circuit, record the result and get counts\n",
    "# result = simulator.run(qc).result()\n",
    "# counts = result.get_counts()\n",
    "# counts"
   ]
  },
  {
   "cell_type": "code",
   "execution_count": null,
   "id": "6fec6dbf-5a65-4eb8-b222-e8064636f0d9",
   "metadata": {},
   "outputs": [],
   "source": [
    "#plot histogram of the result counts"
   ]
  },
  {
   "cell_type": "markdown",
   "id": "dc85a84c-7dd0-44c8-ac2e-150b8f208c4d",
   "metadata": {},
   "source": [
    "#### Superposition"
   ]
  },
  {
   "cell_type": "code",
   "execution_count": 121,
   "id": "6c1f7138-d552-458d-9e22-664d349e12c7",
   "metadata": {},
   "outputs": [],
   "source": [
    "#Construct the circuit. \n",
    "qc = QuantumCircuit(1)\n",
    "\n",
    "# Apply Hadamard gate to put qubit in a Superposition  state\n",
    "\n"
   ]
  },
  {
   "cell_type": "code",
   "execution_count": 122,
   "id": "18f01c79",
   "metadata": {},
   "outputs": [],
   "source": [
    "# plot_bloch_multivector(qc)"
   ]
  },
  {
   "cell_type": "code",
   "execution_count": null,
   "id": "a880e557-be42-4420-9cc3-f91ca308468b",
   "metadata": {},
   "outputs": [],
   "source": [
    "#apply measurement gate \n",
    "# qc.measure_all()\n",
    "\n",
    "#Run the circuit, record the result and get counts\n",
    "# counts = simulator.run(qc).result().get_counts()"
   ]
  },
  {
   "cell_type": "code",
   "execution_count": 123,
   "id": "1b5871d7-a699-46a6-bc94-3502fd2f9d6e",
   "metadata": {},
   "outputs": [],
   "source": [
    "#plot histogram of the result counts\n",
    "# plot_histogram(counts)"
   ]
  },
  {
   "cell_type": "markdown",
   "id": "ead4dc71",
   "metadata": {},
   "source": [
    "#### Z gate (Phase Flip)\n"
   ]
  },
  {
   "cell_type": "code",
   "execution_count": 124,
   "id": "fe8d2934",
   "metadata": {},
   "outputs": [],
   "source": [
    "# create quantum circuit with 1 qubit\n",
    "qc = QuantumCircuit(1)\n",
    "\n",
    "# apply H gate\n",
    "\n",
    "\n",
    "# Z gate #180 flip\n",
    "\n",
    " \n",
    "#draw circuit\n",
    "\n",
    "\n"
   ]
  },
  {
   "cell_type": "code",
   "execution_count": null,
   "id": "fabceaa1",
   "metadata": {},
   "outputs": [],
   "source": [
    "# plot_bloch_multivector(qc)\n"
   ]
  },
  {
   "cell_type": "markdown",
   "id": "5c30650b",
   "metadata": {},
   "source": [
    "#### Qsphere Visualization"
   ]
  },
  {
   "cell_type": "code",
   "execution_count": null,
   "id": "99bd882c",
   "metadata": {},
   "outputs": [],
   "source": [
    "#Quick state visualization without executing the circuit - plot qsphere\n",
    "# plot_state_qsphere(qc)"
   ]
  },
  {
   "cell_type": "code",
   "execution_count": 125,
   "id": "623e1434",
   "metadata": {},
   "outputs": [
    {
     "data": {
      "text/plain": [
       "<qiskit.circuit.instructionset.InstructionSet at 0x12ecf5810>"
      ]
     },
     "execution_count": 125,
     "metadata": {},
     "output_type": "execute_result"
    }
   ],
   "source": [
    "#Under the hood \n",
    "# Save statevector in case the SV should be manipulated/analyzed later\n",
    "  \n",
    "from qiskit.quantum_info import Statevector\n",
    "\n",
    "#create quantum circuit with 1 qubit. Apply H, Z gates\n",
    "qc = QuantumCircuit(1)\n",
    "qc.h(0)\n",
    "qc.z(0) #180 flip\n",
    "\n",
    "#get the statevector from qc instruction set.\n",
    "# sv = Statevector.from_instruction(qc)\n",
    "\n",
    "#plot qsphere\n",
    "# plot_state_qsphere(sv, figsize=(5,5))\n",
    "# plot_bloch_multivector(qc)\n"
   ]
  },
  {
   "cell_type": "code",
   "execution_count": 126,
   "id": "362beb7b",
   "metadata": {},
   "outputs": [],
   "source": [
    "#manipulate the saved state vector directly if required\n",
    "# import numpy as np\n",
    "# sv.data[1] *= np.exp(np.pi/3 * 1j)\n",
    "# plot_state_qsphere(sv)"
   ]
  },
  {
   "cell_type": "code",
   "execution_count": null,
   "id": "94888239",
   "metadata": {},
   "outputs": [],
   "source": [
    "## Construct quantum circuit without measure, save the statevector, run the circuit and visualize plot_state_qsphere\n",
    "\n",
    "# create aer state vector (SV) simlator instance\n",
    "sim = AerSimulator(method='statevector')\n",
    "\n",
    "#create quantum circuit\n",
    "qc = QuantumCircuit(1)\n",
    "# qc.h(0)\n",
    "# qc.z(0)\n",
    "qc.x(0)\n",
    "\n",
    "\n",
    "#save the circuit statevector\n",
    "qc.save_statevector()\n",
    "\n",
    "#run the circuit with SV simulator\n",
    "res = sim.run(qc).result()\n",
    "\n",
    "#get SV from the result and plot qsphere\n",
    "sv = res.get_statevector(qc)\n",
    "# plot_state_qsphere(sv)\n",
    "\n"
   ]
  },
  {
   "cell_type": "markdown",
   "id": "8637a898",
   "metadata": {},
   "source": [
    "#### State city plot"
   ]
  },
  {
   "cell_type": "code",
   "execution_count": 127,
   "id": "04fd3aaf",
   "metadata": {},
   "outputs": [],
   "source": [
    "# plot_state_city(sv , figsize=(5,5))"
   ]
  },
  {
   "cell_type": "markdown",
   "id": "327e116a-c398-4d1f-bc0f-7e3209f5861e",
   "metadata": {},
   "source": [
    "#### Bell State (Entanglement)"
   ]
  },
  {
   "cell_type": "code",
   "execution_count": 128,
   "id": "2c7cd99f-b274-4012-90ce-21d2c28521b2",
   "metadata": {},
   "outputs": [],
   "source": [
    "#Construct the circuit with 2 qubits.\n",
    "qc = QuantumCircuit(2)\n",
    "#apply H gate\n",
    "\n",
    "#apply cnot\n",
    "\n",
    "#apply measurement\n",
    "\n"
   ]
  },
  {
   "cell_type": "code",
   "execution_count": 129,
   "id": "32dd91f7-5042-494c-ab1d-ec1ed9b94401",
   "metadata": {},
   "outputs": [],
   "source": [
    "#Run the circuit, record the result and get counts\n",
    "# counts = simulator.run(qc).result().get_counts()\n",
    "# counts"
   ]
  },
  {
   "cell_type": "code",
   "execution_count": 130,
   "id": "e6508096-6f19-4cc6-81f9-db7804a2ecbf",
   "metadata": {},
   "outputs": [],
   "source": [
    "#plot histogram of the result counts- compare with the above 2 qubits in superposition\n",
    "# plot_histogram(counts, figsize=(5,5), title='Bell State')"
   ]
  },
  {
   "cell_type": "markdown",
   "id": "e06f4eaa",
   "metadata": {},
   "source": [
    "#### Circuit execution on a backend noise model"
   ]
  },
  {
   "cell_type": "code",
   "execution_count": 131,
   "id": "e2d90d7f",
   "metadata": {},
   "outputs": [],
   "source": [
    "from qiskit_ibm_runtime.fake_provider import FakeAlmadenV2\n",
    "device_backend = FakeAlmadenV2()\n",
    "noisy_sim = AerSimulator.from_backend(device_backend)\n",
    "\n",
    "\n",
    "# result = noisy_sim.run(transpile(qc, noisy_sim)).result()\n",
    "# counts = result.get_counts(0)\n",
    "# plot_histogram(counts, title='Noisy counts for Bell state')\n"
   ]
  },
  {
   "cell_type": "markdown",
   "id": "ec8099ed-4493-4301-aa35-77d116620525",
   "metadata": {},
   "source": [
    "#### Circuit execution on a real quantum computer"
   ]
  },
  {
   "cell_type": "code",
   "execution_count": null,
   "id": "72438723-dcd7-4f37-974d-d83df0a4741b",
   "metadata": {},
   "outputs": [
    {
     "data": {
      "text/plain": [
       "<IBMBackend('ibm_brisbane')>"
      ]
     },
     "execution_count": 86,
     "metadata": {},
     "output_type": "execute_result"
    }
   ],
   "source": [
    "#get backends that is least busy / most available\n",
    "\n",
    "n_qubits = 20\n",
    "backend = service.least_busy(\n",
    "    operational=True, simulator=False, min_num_qubits=n_qubits\n",
    ")\n",
    "backend"
   ]
  },
  {
   "cell_type": "code",
   "execution_count": 132,
   "id": "b8b2e171-ff08-4bef-a258-d5154a02ba1d",
   "metadata": {},
   "outputs": [],
   "source": [
    "qc = QuantumCircuit(2)\n",
    "# qc.h(0)\n",
    "# qc.cx(0,1)\n",
    "# qc.measure_all()\n",
    "# qc.draw()"
   ]
  },
  {
   "cell_type": "markdown",
   "id": "f332f162",
   "metadata": {},
   "source": [
    "#### Qiskit Primitives - Sampler and Estimator"
   ]
  },
  {
   "cell_type": "code",
   "execution_count": 134,
   "id": "77792136",
   "metadata": {},
   "outputs": [],
   "source": [
    "from qiskit_ibm_runtime import SamplerV2 as Sampler\n",
    "\n",
    "#create sampler instance for the backend\n",
    "sampler = Sampler(backend)\n",
    "\n",
    "#run sampler for the circuit\n",
    "# job = sampler.run([qc])\n",
    "\n",
    "#get job id so the job can be tracked later\n",
    "# print(f\"job id: {job.job_id()}\")\n",
    "\n",
    "\n"
   ]
  },
  {
   "cell_type": "code",
   "execution_count": null,
   "id": "5f4cdde5",
   "metadata": {},
   "outputs": [],
   "source": [
    "#check gates implemented in target backends\n",
    "\n",
    "# print(list(backend.target.operation_names))"
   ]
  },
  {
   "cell_type": "code",
   "execution_count": 136,
   "id": "055388dd-4f18-4f5c-8edd-cbce70c005ad",
   "metadata": {},
   "outputs": [],
   "source": [
    "#transpile the circuit for the specific backend\n",
    "sampler = Sampler(backend)\n",
    "\n",
    "#transpile cicuit\n",
    "transpiled_qc = transpile(qc,backend=backend)\n",
    "\n",
    "# execute the transpiled circuit\n",
    "# job = sampler.run([transpiled_qc])\n",
    "# print(f\"job id: {job.job_id()}\")\n",
    "\n",
    "\n"
   ]
  },
  {
   "cell_type": "code",
   "execution_count": null,
   "id": "6413ae46",
   "metadata": {},
   "outputs": [
    {
     "data": {
      "text/plain": [
       "'QUEUED'"
      ]
     },
     "execution_count": 94,
     "metadata": {},
     "output_type": "execute_result"
    }
   ],
   "source": [
    "#check job status\n",
    "# job.status()"
   ]
  },
  {
   "cell_type": "code",
   "execution_count": null,
   "id": "1954a75b",
   "metadata": {},
   "outputs": [
    {
     "data": {
      "text/plain": [
       "{'00': 4096}"
      ]
     },
     "execution_count": 98,
     "metadata": {},
     "output_type": "execute_result"
    }
   ],
   "source": [
    "#get the result of a completed job - CHeck https://quantum.ibm.com/workloads to get the list of all jobs run so far\n",
    "job = service.job('cy9zqjynrmz000861qq0')\n",
    "job_result = job.result()\n",
    "job_result"
   ]
  },
  {
   "cell_type": "code",
   "execution_count": null,
   "id": "66af0aa6",
   "metadata": {},
   "outputs": [],
   "source": [
    "#get classical registers\n",
    "#qc.cregs "
   ]
  },
  {
   "cell_type": "code",
   "execution_count": 102,
   "id": "5e721dcb",
   "metadata": {},
   "outputs": [],
   "source": [
    "#pub_result = job_result[<idx>].data.<classical register>.get_counts()\n",
    "# job_result[0].data.meas.get_counts()"
   ]
  },
  {
   "cell_type": "markdown",
   "id": "383a2440-e1c2-46a0-995d-c3c452d7fa9b",
   "metadata": {},
   "source": [
    "#### Estimator"
   ]
  },
  {
   "cell_type": "code",
   "execution_count": 147,
   "id": "d83ac587-3ddd-478e-8ed3-e08350151a8c",
   "metadata": {},
   "outputs": [],
   "source": [
    "from qiskit_ibm_runtime import EstimatorV2 as estimator\n",
    "from qiskit.circuit.random import random_circuit\n",
    "from qiskit.quantum_info import SparsePauliOp\n",
    "\n",
    "simulator = AerSimulator()\n",
    "\n",
    "estimator = estimator(simulator)\n",
    "circuit = random_circuit(2, 2, seed=0).decompose(reps=1)\n",
    "observable = SparsePauliOp(\"XZ\")\n",
    "\n",
    "job = estimator.run([(circuit, observable)])\n",
    "result = job.result()\n",
    "\n",
    "# display(circuit.draw(\"mpl\"))\n",
    "# print(f\"Observable: {observable.paulis}\")\n",
    "# print(f\"Expectation value: {result[0].data.evs}\")"
   ]
  },
  {
   "cell_type": "code",
   "execution_count": 149,
   "id": "cdec072c-a7a1-4013-bb84-1da8d0fd759f",
   "metadata": {},
   "outputs": [],
   "source": [
    "from qiskit.circuit.library import RealAmplitudes\n",
    "\n",
    "circuit = RealAmplitudes(num_qubits=2, reps=2).decompose(reps=1)\n",
    "observable = SparsePauliOp(\"ZI\")\n",
    "parameter_values = [0, 1, 2, 3, 4, 5]\n",
    "\n",
    "job = estimator.run([(circuit, observable, parameter_values)])\n",
    "result = job.result()\n",
    "\n",
    "# display(circuit.draw(\"mpl\"))\n",
    "# print(f\"Observable: {observable.paulis}\")\n",
    "# print(f\"Parameter values: {parameter_values}\")\n",
    "# print(f\"Expectation value: {result[0].data.evs}\")"
   ]
  },
  {
   "cell_type": "markdown",
   "id": "51a5d2b4",
   "metadata": {},
   "source": [
    "#### Transpile with pass manager"
   ]
  },
  {
   "cell_type": "code",
   "execution_count": 150,
   "id": "7853b7b9",
   "metadata": {},
   "outputs": [],
   "source": [
    "#Transpile with pass manager\n",
    "\n",
    "from qiskit.transpiler import generate_preset_pass_manager\n",
    " \n",
    "qc = QuantumCircuit(2)\n",
    "qc.h(0)\n",
    "qc.cx(0,1) \n",
    "# Convert to an ISA circuit and layout-mapped observables.\n",
    "pm = generate_preset_pass_manager(backend=backend, optimization_level=1)\n",
    "isa_circuit = pm.run(qc)\n",
    " \n",
    "# isa_circuit.draw(\"mpl\", idle_wires=False)\n"
   ]
  },
  {
   "cell_type": "code",
   "execution_count": null,
   "id": "d14684d0",
   "metadata": {},
   "outputs": [],
   "source": []
  }
 ],
 "metadata": {
  "kernelspec": {
   "display_name": "qubo-qutting",
   "language": "python",
   "name": "python3"
  },
  "language_info": {
   "codemirror_mode": {
    "name": "ipython",
    "version": 3
   },
   "file_extension": ".py",
   "mimetype": "text/x-python",
   "name": "python",
   "nbconvert_exporter": "python",
   "pygments_lexer": "ipython3",
   "version": "3.12.0"
  },
  "widgets": {
   "application/vnd.jupyter.widget-state+json": {
    "state": {},
    "version_major": 2,
    "version_minor": 0
   }
  }
 },
 "nbformat": 4,
 "nbformat_minor": 5
}
